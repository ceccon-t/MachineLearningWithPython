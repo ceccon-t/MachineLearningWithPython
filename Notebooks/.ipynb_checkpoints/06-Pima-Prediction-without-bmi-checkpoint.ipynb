{
 "metadata": {
  "kernelspec": {
   "display_name": "Python 3",
   "language": "python",
   "name": "python3"
  },
  "language_info": {
   "codemirror_mode": {
    "name": "ipython",
    "version": 3
   },
   "file_extension": ".py",
   "mimetype": "text/x-python",
   "name": "python",
   "nbconvert_exporter": "python",
   "pygments_lexer": "ipython3",
   "version": "3.6.2"
  },
  "name": "",
  "signature": "sha256:fc6a4fd819990b27c81c6ac8c5104ef01a80d2140b50a9db1821ebe2ebaa06f8"
 },
 "nbformat": 3,
 "nbformat_minor": 0,
 "worksheets": [
  {
   "cells": [
    {
     "cell_type": "heading",
     "level": 1,
     "metadata": {},
     "source": [
      "Pima Indian Diabetes Prediction - removing bmi from initial dataset"
     ]
    },
    {
     "cell_type": "markdown",
     "metadata": {},
     "source": [
      "Import some basic libraries.\n",
      "* Pandas - provided data frames\n",
      "* matplotlib.pyplot - plotting support\n",
      "\n",
      "Use Magic %matplotlib to display graphics inline instead of in a popup window.\n"
     ]
    },
    {
     "cell_type": "code",
     "collapsed": true,
     "input": [
      "import pandas as pd                 # pandas is a dataframe library\n",
      "import matplotlib.pyplot as plt      # matplotlib.pyplot plots data\n",
      "\n",
      "%matplotlib inline"
     ],
     "language": "python",
     "metadata": {},
     "outputs": [],
     "prompt_number": 1
    },
    {
     "cell_type": "heading",
     "level": 2,
     "metadata": {},
     "source": [
      "Loading and Reviewing the Data"
     ]
    },
    {
     "cell_type": "code",
     "collapsed": true,
     "input": [
      "df = pd.read_csv(\"./data/pima-data.csv\")"
     ],
     "language": "python",
     "metadata": {},
     "outputs": [],
     "prompt_number": 2
    },
    {
     "cell_type": "code",
     "collapsed": false,
     "input": [
      "df.shape"
     ],
     "language": "python",
     "metadata": {},
     "outputs": [
      {
       "metadata": {},
       "output_type": "pyout",
       "prompt_number": 3,
       "text": [
        "(768, 10)"
       ]
      }
     ],
     "prompt_number": 3
    },
    {
     "cell_type": "code",
     "collapsed": false,
     "input": [
      "df.head(5)"
     ],
     "language": "python",
     "metadata": {},
     "outputs": [
      {
       "html": [
        "<div style=\"max-width:1500px;overflow:auto;\">\n",
        "<table border=\"1\" class=\"dataframe\">\n",
        "  <thead>\n",
        "    <tr style=\"text-align: right;\">\n",
        "      <th></th>\n",
        "      <th>num_preg</th>\n",
        "      <th>glucose_conc</th>\n",
        "      <th>diastolic_bp</th>\n",
        "      <th>thickness</th>\n",
        "      <th>insulin</th>\n",
        "      <th>bmi</th>\n",
        "      <th>diab_pred</th>\n",
        "      <th>age</th>\n",
        "      <th>skin</th>\n",
        "      <th>diabetes</th>\n",
        "    </tr>\n",
        "  </thead>\n",
        "  <tbody>\n",
        "    <tr>\n",
        "      <th>0</th>\n",
        "      <td>6</td>\n",
        "      <td>148</td>\n",
        "      <td>72</td>\n",
        "      <td>35</td>\n",
        "      <td>0</td>\n",
        "      <td>33.6</td>\n",
        "      <td>0.627</td>\n",
        "      <td>50</td>\n",
        "      <td>1.3790</td>\n",
        "      <td>True</td>\n",
        "    </tr>\n",
        "    <tr>\n",
        "      <th>1</th>\n",
        "      <td>1</td>\n",
        "      <td>85</td>\n",
        "      <td>66</td>\n",
        "      <td>29</td>\n",
        "      <td>0</td>\n",
        "      <td>26.6</td>\n",
        "      <td>0.351</td>\n",
        "      <td>31</td>\n",
        "      <td>1.1426</td>\n",
        "      <td>False</td>\n",
        "    </tr>\n",
        "    <tr>\n",
        "      <th>2</th>\n",
        "      <td>8</td>\n",
        "      <td>183</td>\n",
        "      <td>64</td>\n",
        "      <td>0</td>\n",
        "      <td>0</td>\n",
        "      <td>23.3</td>\n",
        "      <td>0.672</td>\n",
        "      <td>32</td>\n",
        "      <td>0.0000</td>\n",
        "      <td>True</td>\n",
        "    </tr>\n",
        "    <tr>\n",
        "      <th>3</th>\n",
        "      <td>1</td>\n",
        "      <td>89</td>\n",
        "      <td>66</td>\n",
        "      <td>23</td>\n",
        "      <td>94</td>\n",
        "      <td>28.1</td>\n",
        "      <td>0.167</td>\n",
        "      <td>21</td>\n",
        "      <td>0.9062</td>\n",
        "      <td>False</td>\n",
        "    </tr>\n",
        "    <tr>\n",
        "      <th>4</th>\n",
        "      <td>0</td>\n",
        "      <td>137</td>\n",
        "      <td>40</td>\n",
        "      <td>35</td>\n",
        "      <td>168</td>\n",
        "      <td>43.1</td>\n",
        "      <td>2.288</td>\n",
        "      <td>33</td>\n",
        "      <td>1.3790</td>\n",
        "      <td>True</td>\n",
        "    </tr>\n",
        "  </tbody>\n",
        "</table>\n",
        "</div>"
       ],
       "metadata": {},
       "output_type": "pyout",
       "prompt_number": 4,
       "text": [
        "   num_preg  glucose_conc  diastolic_bp  thickness  insulin   bmi  diab_pred  \\\n",
        "0         6           148            72         35        0  33.6      0.627   \n",
        "1         1            85            66         29        0  26.6      0.351   \n",
        "2         8           183            64          0        0  23.3      0.672   \n",
        "3         1            89            66         23       94  28.1      0.167   \n",
        "4         0           137            40         35      168  43.1      2.288   \n",
        "\n",
        "   age    skin diabetes  \n",
        "0   50  1.3790     True  \n",
        "1   31  1.1426    False  \n",
        "2   32  0.0000     True  \n",
        "3   21  0.9062    False  \n",
        "4   33  1.3790     True  "
       ]
      }
     ],
     "prompt_number": 4
    },
    {
     "cell_type": "code",
     "collapsed": false,
     "input": [
      "df.tail(5)"
     ],
     "language": "python",
     "metadata": {},
     "outputs": [
      {
       "html": [
        "<div style=\"max-width:1500px;overflow:auto;\">\n",
        "<table border=\"1\" class=\"dataframe\">\n",
        "  <thead>\n",
        "    <tr style=\"text-align: right;\">\n",
        "      <th></th>\n",
        "      <th>num_preg</th>\n",
        "      <th>glucose_conc</th>\n",
        "      <th>diastolic_bp</th>\n",
        "      <th>thickness</th>\n",
        "      <th>insulin</th>\n",
        "      <th>bmi</th>\n",
        "      <th>diab_pred</th>\n",
        "      <th>age</th>\n",
        "      <th>skin</th>\n",
        "      <th>diabetes</th>\n",
        "    </tr>\n",
        "  </thead>\n",
        "  <tbody>\n",
        "    <tr>\n",
        "      <th>763</th>\n",
        "      <td>10</td>\n",
        "      <td>101</td>\n",
        "      <td>76</td>\n",
        "      <td>48</td>\n",
        "      <td>180</td>\n",
        "      <td>32.9</td>\n",
        "      <td>0.171</td>\n",
        "      <td>63</td>\n",
        "      <td>1.8912</td>\n",
        "      <td>False</td>\n",
        "    </tr>\n",
        "    <tr>\n",
        "      <th>764</th>\n",
        "      <td>2</td>\n",
        "      <td>122</td>\n",
        "      <td>70</td>\n",
        "      <td>27</td>\n",
        "      <td>0</td>\n",
        "      <td>36.8</td>\n",
        "      <td>0.340</td>\n",
        "      <td>27</td>\n",
        "      <td>1.0638</td>\n",
        "      <td>False</td>\n",
        "    </tr>\n",
        "    <tr>\n",
        "      <th>765</th>\n",
        "      <td>5</td>\n",
        "      <td>121</td>\n",
        "      <td>72</td>\n",
        "      <td>23</td>\n",
        "      <td>112</td>\n",
        "      <td>26.2</td>\n",
        "      <td>0.245</td>\n",
        "      <td>30</td>\n",
        "      <td>0.9062</td>\n",
        "      <td>False</td>\n",
        "    </tr>\n",
        "    <tr>\n",
        "      <th>766</th>\n",
        "      <td>1</td>\n",
        "      <td>126</td>\n",
        "      <td>60</td>\n",
        "      <td>0</td>\n",
        "      <td>0</td>\n",
        "      <td>30.1</td>\n",
        "      <td>0.349</td>\n",
        "      <td>47</td>\n",
        "      <td>0.0000</td>\n",
        "      <td>True</td>\n",
        "    </tr>\n",
        "    <tr>\n",
        "      <th>767</th>\n",
        "      <td>1</td>\n",
        "      <td>93</td>\n",
        "      <td>70</td>\n",
        "      <td>31</td>\n",
        "      <td>0</td>\n",
        "      <td>30.4</td>\n",
        "      <td>0.315</td>\n",
        "      <td>23</td>\n",
        "      <td>1.2214</td>\n",
        "      <td>False</td>\n",
        "    </tr>\n",
        "  </tbody>\n",
        "</table>\n",
        "</div>"
       ],
       "metadata": {},
       "output_type": "pyout",
       "prompt_number": 5,
       "text": [
        "     num_preg  glucose_conc  diastolic_bp  thickness  insulin   bmi  \\\n",
        "763        10           101            76         48      180  32.9   \n",
        "764         2           122            70         27        0  36.8   \n",
        "765         5           121            72         23      112  26.2   \n",
        "766         1           126            60          0        0  30.1   \n",
        "767         1            93            70         31        0  30.4   \n",
        "\n",
        "     diab_pred  age    skin diabetes  \n",
        "763      0.171   63  1.8912    False  \n",
        "764      0.340   27  1.0638    False  \n",
        "765      0.245   30  0.9062    False  \n",
        "766      0.349   47  0.0000     True  \n",
        "767      0.315   23  1.2214    False  "
       ]
      }
     ],
     "prompt_number": 5
    },
    {
     "cell_type": "markdown",
     "metadata": {},
     "source": [
      "### Definition of features\n",
      "From the metadata on the data source we have the following definition of the features.\n",
      "\n",
      "| Feature  | Description | Comments |\n",
      "|--------------|-------------|--------|\n",
      "| num_preg     | number of pregnancies         |\n",
      "| glucose_conc | Plasma glucose concentration a 2 hours in an oral glucose tolerance test         |\n",
      "| diastolic_bp | Diastolic blood pressure (mm Hg) |\n",
      "| thickness | Triceps skin fold thickness (mm) |\n",
      "|insulin | 2-Hour serum insulin (mu U/ml) |\n",
      "| bmi |  Body mass index (weight in kg/(height in m)^2) |\n",
      "| diab_pred |  Diabetes pedigree function |\n",
      "| Age (years) | Age (years)|\n",
      "| skin | ???? | What is this? |\n",
      "| diabetes | Class variable (1=True, 0=False) |  Why is our data boolean (True/False)? |\n"
     ]
    },
    {
     "cell_type": "heading",
     "level": 2,
     "metadata": {},
     "source": [
      "Check for null values"
     ]
    },
    {
     "cell_type": "code",
     "collapsed": false,
     "input": [
      "df.isnull().values.any()\n"
     ],
     "language": "python",
     "metadata": {},
     "outputs": [
      {
       "metadata": {},
       "output_type": "pyout",
       "prompt_number": 6,
       "text": [
        "False"
       ]
      }
     ],
     "prompt_number": 6
    },
    {
     "cell_type": "heading",
     "level": 3,
     "metadata": {},
     "source": [
      "Correlated Feature Check"
     ]
    },
    {
     "cell_type": "markdown",
     "metadata": {},
     "source": [
      "Helper function that displays correlation by color.  Red is most correlated, Blue least."
     ]
    },
    {
     "cell_type": "code",
     "collapsed": true,
     "input": [
      "def plot_corr(df, size=11):\n",
      "    \"\"\"\n",
      "    Function plots a graphical correlation matrix for each pair of columns in the dataframe.\n",
      "\n",
      "    Input:\n",
      "        df: pandas DataFrame\n",
      "        size: vertical and horizontal size of the plot\n",
      "\n",
      "    Displays:\n",
      "        matrix of correlation between columns.  Blue-cyan-yellow-red-darkred => less to more correlated\n",
      "                                                0 ------------------>  1\n",
      "                                                Expect a darkred line running from top left to bottom right\n",
      "    \"\"\"\n",
      "\n",
      "    corr = df.corr()    # data frame correlation function\n",
      "    fig, ax = plt.subplots(figsize=(size, size))\n",
      "    ax.matshow(corr)   # color code the rectangles by correlation value\n",
      "    plt.xticks(range(len(corr.columns)), corr.columns)  # draw x tick marks\n",
      "    plt.yticks(range(len(corr.columns)), corr.columns)  # draw y tick marks\n"
     ],
     "language": "python",
     "metadata": {},
     "outputs": [],
     "prompt_number": 7
    },
    {
     "cell_type": "code",
     "collapsed": false,
     "input": [
      "plot_corr(df)"
     ],
     "language": "python",
     "metadata": {},
     "outputs": [
      {
       "metadata": {},
       "output_type": "display_data",
       "png": "[encoded data removed]",
       "text": [
        "<matplotlib.figure.Figure at 0x7f91b5382278>"
       ]
      }
     ],
     "prompt_number": 8
    },
    {
     "cell_type": "code",
     "collapsed": false,
     "input": [
      "df.corr()"
     ],
     "language": "python",
     "metadata": {},
     "outputs": [
      {
       "html": [
        "<div style=\"max-width:1500px;overflow:auto;\">\n",
        "<table border=\"1\" class=\"dataframe\">\n",
        "  <thead>\n",
        "    <tr style=\"text-align: right;\">\n",
        "      <th></th>\n",
        "      <th>num_preg</th>\n",
        "      <th>glucose_conc</th>\n",
        "      <th>diastolic_bp</th>\n",
        "      <th>thickness</th>\n",
        "      <th>insulin</th>\n",
        "      <th>bmi</th>\n",
        "      <th>diab_pred</th>\n",
        "      <th>age</th>\n",
        "      <th>skin</th>\n",
        "      <th>diabetes</th>\n",
        "    </tr>\n",
        "  </thead>\n",
        "  <tbody>\n",
        "    <tr>\n",
        "      <th>num_preg</th>\n",
        "      <td>1.000000</td>\n",
        "      <td>0.129459</td>\n",
        "      <td>0.141282</td>\n",
        "      <td>-0.081672</td>\n",
        "      <td>-0.073535</td>\n",
        "      <td>0.017683</td>\n",
        "      <td>-0.033523</td>\n",
        "      <td>0.544341</td>\n",
        "      <td>-0.081672</td>\n",
        "      <td>0.221898</td>\n",
        "    </tr>\n",
        "    <tr>\n",
        "      <th>glucose_conc</th>\n",
        "      <td>0.129459</td>\n",
        "      <td>1.000000</td>\n",
        "      <td>0.152590</td>\n",
        "      <td>0.057328</td>\n",
        "      <td>0.331357</td>\n",
        "      <td>0.221071</td>\n",
        "      <td>0.137337</td>\n",
        "      <td>0.263514</td>\n",
        "      <td>0.057328</td>\n",
        "      <td>0.466581</td>\n",
        "    </tr>\n",
        "    <tr>\n",
        "      <th>diastolic_bp</th>\n",
        "      <td>0.141282</td>\n",
        "      <td>0.152590</td>\n",
        "      <td>1.000000</td>\n",
        "      <td>0.207371</td>\n",
        "      <td>0.088933</td>\n",
        "      <td>0.281805</td>\n",
        "      <td>0.041265</td>\n",
        "      <td>0.239528</td>\n",
        "      <td>0.207371</td>\n",
        "      <td>0.065068</td>\n",
        "    </tr>\n",
        "    <tr>\n",
        "      <th>thickness</th>\n",
        "      <td>-0.081672</td>\n",
        "      <td>0.057328</td>\n",
        "      <td>0.207371</td>\n",
        "      <td>1.000000</td>\n",
        "      <td>0.436783</td>\n",
        "      <td>0.392573</td>\n",
        "      <td>0.183928</td>\n",
        "      <td>-0.113970</td>\n",
        "      <td>1.000000</td>\n",
        "      <td>0.074752</td>\n",
        "    </tr>\n",
        "    <tr>\n",
        "      <th>insulin</th>\n",
        "      <td>-0.073535</td>\n",
        "      <td>0.331357</td>\n",
        "      <td>0.088933</td>\n",
        "      <td>0.436783</td>\n",
        "      <td>1.000000</td>\n",
        "      <td>0.197859</td>\n",
        "      <td>0.185071</td>\n",
        "      <td>-0.042163</td>\n",
        "      <td>0.436783</td>\n",
        "      <td>0.130548</td>\n",
        "    </tr>\n",
        "    <tr>\n",
        "      <th>bmi</th>\n",
        "      <td>0.017683</td>\n",
        "      <td>0.221071</td>\n",
        "      <td>0.281805</td>\n",
        "      <td>0.392573</td>\n",
        "      <td>0.197859</td>\n",
        "      <td>1.000000</td>\n",
        "      <td>0.140647</td>\n",
        "      <td>0.036242</td>\n",
        "      <td>0.392573</td>\n",
        "      <td>0.292695</td>\n",
        "    </tr>\n",
        "    <tr>\n",
        "      <th>diab_pred</th>\n",
        "      <td>-0.033523</td>\n",
        "      <td>0.137337</td>\n",
        "      <td>0.041265</td>\n",
        "      <td>0.183928</td>\n",
        "      <td>0.185071</td>\n",
        "      <td>0.140647</td>\n",
        "      <td>1.000000</td>\n",
        "      <td>0.033561</td>\n",
        "      <td>0.183928</td>\n",
        "      <td>0.173844</td>\n",
        "    </tr>\n",
        "    <tr>\n",
        "      <th>age</th>\n",
        "      <td>0.544341</td>\n",
        "      <td>0.263514</td>\n",
        "      <td>0.239528</td>\n",
        "      <td>-0.113970</td>\n",
        "      <td>-0.042163</td>\n",
        "      <td>0.036242</td>\n",
        "      <td>0.033561</td>\n",
        "      <td>1.000000</td>\n",
        "      <td>-0.113970</td>\n",
        "      <td>0.238356</td>\n",
        "    </tr>\n",
        "    <tr>\n",
        "      <th>skin</th>\n",
        "      <td>-0.081672</td>\n",
        "      <td>0.057328</td>\n",
        "      <td>0.207371</td>\n",
        "      <td>1.000000</td>\n",
        "      <td>0.436783</td>\n",
        "      <td>0.392573</td>\n",
        "      <td>0.183928</td>\n",
        "      <td>-0.113970</td>\n",
        "      <td>1.000000</td>\n",
        "      <td>0.074752</td>\n",
        "    </tr>\n",
        "    <tr>\n",
        "      <th>diabetes</th>\n",
        "      <td>0.221898</td>\n",
        "      <td>0.466581</td>\n",
        "      <td>0.065068</td>\n",
        "      <td>0.074752</td>\n",
        "      <td>0.130548</td>\n",
        "      <td>0.292695</td>\n",
        "      <td>0.173844</td>\n",
        "      <td>0.238356</td>\n",
        "      <td>0.074752</td>\n",
        "      <td>1.000000</td>\n",
        "    </tr>\n",
        "  </tbody>\n",
        "</table>\n",
        "</div>"
       ],
       "metadata": {},
       "output_type": "pyout",
       "prompt_number": 9,
       "text": [
        "              num_preg  glucose_conc  diastolic_bp  thickness   insulin  \\\n",
        "num_preg      1.000000      0.129459      0.141282  -0.081672 -0.073535   \n",
        "glucose_conc  0.129459      1.000000      0.152590   0.057328  0.331357   \n",
        "diastolic_bp  0.141282      0.152590      1.000000   0.207371  0.088933   \n",
        "thickness    -0.081672      0.057328      0.207371   1.000000  0.436783   \n",
        "insulin      -0.073535      0.331357      0.088933   0.436783  1.000000   \n",
        "bmi           0.017683      0.221071      0.281805   0.392573  0.197859   \n",
        "diab_pred    -0.033523      0.137337      0.041265   0.183928  0.185071   \n",
        "age           0.544341      0.263514      0.239528  -0.113970 -0.042163   \n",
        "skin         -0.081672      0.057328      0.207371   1.000000  0.436783   \n",
        "diabetes      0.221898      0.466581      0.065068   0.074752  0.130548   \n",
        "\n",
        "                   bmi  diab_pred       age      skin  diabetes  \n",
        "num_preg      0.017683  -0.033523  0.544341 -0.081672  0.221898  \n",
        "glucose_conc  0.221071   0.137337  0.263514  0.057328  0.466581  \n",
        "diastolic_bp  0.281805   0.041265  0.239528  0.207371  0.065068  \n",
        "thickness     0.392573   0.183928 -0.113970  1.000000  0.074752  \n",
        "insulin       0.197859   0.185071 -0.042163  0.436783  0.130548  \n",
        "bmi           1.000000   0.140647  0.036242  0.392573  0.292695  \n",
        "diab_pred     0.140647   1.000000  0.033561  0.183928  0.173844  \n",
        "age           0.036242   0.033561  1.000000 -0.113970  0.238356  \n",
        "skin          0.392573   0.183928 -0.113970  1.000000  0.074752  \n",
        "diabetes      0.292695   0.173844  0.238356  0.074752  1.000000  "
       ]
      }
     ],
     "prompt_number": 9
    },
    {
     "cell_type": "code",
     "collapsed": false,
     "input": [
      "df.head(5)"
     ],
     "language": "python",
     "metadata": {},
     "outputs": [
      {
       "html": [
        "<div style=\"max-width:1500px;overflow:auto;\">\n",
        "<table border=\"1\" class=\"dataframe\">\n",
        "  <thead>\n",
        "    <tr style=\"text-align: right;\">\n",
        "      <th></th>\n",
        "      <th>num_preg</th>\n",
        "      <th>glucose_conc</th>\n",
        "      <th>diastolic_bp</th>\n",
        "      <th>thickness</th>\n",
        "      <th>insulin</th>\n",
        "      <th>bmi</th>\n",
        "      <th>diab_pred</th>\n",
        "      <th>age</th>\n",
        "      <th>skin</th>\n",
        "      <th>diabetes</th>\n",
        "    </tr>\n",
        "  </thead>\n",
        "  <tbody>\n",
        "    <tr>\n",
        "      <th>0</th>\n",
        "      <td>6</td>\n",
        "      <td>148</td>\n",
        "      <td>72</td>\n",
        "      <td>35</td>\n",
        "      <td>0</td>\n",
        "      <td>33.6</td>\n",
        "      <td>0.627</td>\n",
        "      <td>50</td>\n",
        "      <td>1.3790</td>\n",
        "      <td>True</td>\n",
        "    </tr>\n",
        "    <tr>\n",
        "      <th>1</th>\n",
        "      <td>1</td>\n",
        "      <td>85</td>\n",
        "      <td>66</td>\n",
        "      <td>29</td>\n",
        "      <td>0</td>\n",
        "      <td>26.6</td>\n",
        "      <td>0.351</td>\n",
        "      <td>31</td>\n",
        "      <td>1.1426</td>\n",
        "      <td>False</td>\n",
        "    </tr>\n",
        "    <tr>\n",
        "      <th>2</th>\n",
        "      <td>8</td>\n",
        "      <td>183</td>\n",
        "      <td>64</td>\n",
        "      <td>0</td>\n",
        "      <td>0</td>\n",
        "      <td>23.3</td>\n",
        "      <td>0.672</td>\n",
        "      <td>32</td>\n",
        "      <td>0.0000</td>\n",
        "      <td>True</td>\n",
        "    </tr>\n",
        "    <tr>\n",
        "      <th>3</th>\n",
        "      <td>1</td>\n",
        "      <td>89</td>\n",
        "      <td>66</td>\n",
        "      <td>23</td>\n",
        "      <td>94</td>\n",
        "      <td>28.1</td>\n",
        "      <td>0.167</td>\n",
        "      <td>21</td>\n",
        "      <td>0.9062</td>\n",
        "      <td>False</td>\n",
        "    </tr>\n",
        "    <tr>\n",
        "      <th>4</th>\n",
        "      <td>0</td>\n",
        "      <td>137</td>\n",
        "      <td>40</td>\n",
        "      <td>35</td>\n",
        "      <td>168</td>\n",
        "      <td>43.1</td>\n",
        "      <td>2.288</td>\n",
        "      <td>33</td>\n",
        "      <td>1.3790</td>\n",
        "      <td>True</td>\n",
        "    </tr>\n",
        "  </tbody>\n",
        "</table>\n",
        "</div>"
       ],
       "metadata": {},
       "output_type": "pyout",
       "prompt_number": 10,
       "text": [
        "   num_preg  glucose_conc  diastolic_bp  thickness  insulin   bmi  diab_pred  \\\n",
        "0         6           148            72         35        0  33.6      0.627   \n",
        "1         1            85            66         29        0  26.6      0.351   \n",
        "2         8           183            64          0        0  23.3      0.672   \n",
        "3         1            89            66         23       94  28.1      0.167   \n",
        "4         0           137            40         35      168  43.1      2.288   \n",
        "\n",
        "   age    skin diabetes  \n",
        "0   50  1.3790     True  \n",
        "1   31  1.1426    False  \n",
        "2   32  0.0000     True  \n",
        "3   21  0.9062    False  \n",
        "4   33  1.3790     True  "
       ]
      }
     ],
     "prompt_number": 10
    },
    {
     "cell_type": "markdown",
     "metadata": {},
     "source": [
      "The skin and thickness columns are correlated 1 to 1.  Dropping the skin column"
     ]
    },
    {
     "cell_type": "code",
     "collapsed": true,
     "input": [
      "del df['skin']"
     ],
     "language": "python",
     "metadata": {},
     "outputs": [],
     "prompt_number": 11
    },
    {
     "cell_type": "code",
     "collapsed": false,
     "input": [
      "df.head(5)"
     ],
     "language": "python",
     "metadata": {},
     "outputs": [
      {
       "html": [
        "<div style=\"max-width:1500px;overflow:auto;\">\n",
        "<table border=\"1\" class=\"dataframe\">\n",
        "  <thead>\n",
        "    <tr style=\"text-align: right;\">\n",
        "      <th></th>\n",
        "      <th>num_preg</th>\n",
        "      <th>glucose_conc</th>\n",
        "      <th>diastolic_bp</th>\n",
        "      <th>thickness</th>\n",
        "      <th>insulin</th>\n",
        "      <th>bmi</th>\n",
        "      <th>diab_pred</th>\n",
        "      <th>age</th>\n",
        "      <th>diabetes</th>\n",
        "    </tr>\n",
        "  </thead>\n",
        "  <tbody>\n",
        "    <tr>\n",
        "      <th>0</th>\n",
        "      <td>6</td>\n",
        "      <td>148</td>\n",
        "      <td>72</td>\n",
        "      <td>35</td>\n",
        "      <td>0</td>\n",
        "      <td>33.6</td>\n",
        "      <td>0.627</td>\n",
        "      <td>50</td>\n",
        "      <td>True</td>\n",
        "    </tr>\n",
        "    <tr>\n",
        "      <th>1</th>\n",
        "      <td>1</td>\n",
        "      <td>85</td>\n",
        "      <td>66</td>\n",
        "      <td>29</td>\n",
        "      <td>0</td>\n",
        "      <td>26.6</td>\n",
        "      <td>0.351</td>\n",
        "      <td>31</td>\n",
        "      <td>False</td>\n",
        "    </tr>\n",
        "    <tr>\n",
        "      <th>2</th>\n",
        "      <td>8</td>\n",
        "      <td>183</td>\n",
        "      <td>64</td>\n",
        "      <td>0</td>\n",
        "      <td>0</td>\n",
        "      <td>23.3</td>\n",
        "      <td>0.672</td>\n",
        "      <td>32</td>\n",
        "      <td>True</td>\n",
        "    </tr>\n",
        "    <tr>\n",
        "      <th>3</th>\n",
        "      <td>1</td>\n",
        "      <td>89</td>\n",
        "      <td>66</td>\n",
        "      <td>23</td>\n",
        "      <td>94</td>\n",
        "      <td>28.1</td>\n",
        "      <td>0.167</td>\n",
        "      <td>21</td>\n",
        "      <td>False</td>\n",
        "    </tr>\n",
        "    <tr>\n",
        "      <th>4</th>\n",
        "      <td>0</td>\n",
        "      <td>137</td>\n",
        "      <td>40</td>\n",
        "      <td>35</td>\n",
        "      <td>168</td>\n",
        "      <td>43.1</td>\n",
        "      <td>2.288</td>\n",
        "      <td>33</td>\n",
        "      <td>True</td>\n",
        "    </tr>\n",
        "  </tbody>\n",
        "</table>\n",
        "</div>"
       ],
       "metadata": {},
       "output_type": "pyout",
       "prompt_number": 12,
       "text": [
        "   num_preg  glucose_conc  diastolic_bp  thickness  insulin   bmi  diab_pred  \\\n",
        "0         6           148            72         35        0  33.6      0.627   \n",
        "1         1            85            66         29        0  26.6      0.351   \n",
        "2         8           183            64          0        0  23.3      0.672   \n",
        "3         1            89            66         23       94  28.1      0.167   \n",
        "4         0           137            40         35      168  43.1      2.288   \n",
        "\n",
        "   age diabetes  \n",
        "0   50     True  \n",
        "1   31    False  \n",
        "2   32     True  \n",
        "3   21    False  \n",
        "4   33     True  "
       ]
      }
     ],
     "prompt_number": 12
    },
    {
     "cell_type": "markdown",
     "metadata": {},
     "source": [
      "Check for additional correlations"
     ]
    },
    {
     "cell_type": "code",
     "collapsed": false,
     "input": [
      "plot_corr(df)"
     ],
     "language": "python",
     "metadata": {},
     "outputs": [
      {
       "metadata": {},
       "output_type": "display_data",
       "png": "[encoded data removed]",
       "text": [
        "<matplotlib.figure.Figure at 0x7f91b530bdd8>"
       ]
      }
     ],
     "prompt_number": 13
    },
    {
     "cell_type": "markdown",
     "metadata": {},
     "source": [
      "The correlations look good.  There appear to be no coorelated columns."
     ]
    },
    {
     "cell_type": "markdown",
     "metadata": {},
     "source": [
      "======================================================================"
     ]
    },
    {
     "cell_type": "heading",
     "level": 2,
     "metadata": {},
     "source": [
      "What if set of features collected/stored was different?"
     ]
    },
    {
     "cell_type": "markdown",
     "metadata": {},
     "source": [
      "Let's see the effect of deleting the feature bmi."
     ]
    },
    {
     "cell_type": "code",
     "collapsed": false,
     "input": [
      "del df['bmi']"
     ],
     "language": "python",
     "metadata": {},
     "outputs": [],
     "prompt_number": 14
    },
    {
     "cell_type": "code",
     "collapsed": false,
     "input": [
      "plot_corr(df)"
     ],
     "language": "python",
     "metadata": {},
     "outputs": [
      {
       "metadata": {},
       "output_type": "display_data",
       "png": "[encoded data removed]",
       "text": [
        "<matplotlib.figure.Figure at 0x7f91b5307f28>"
       ]
      }
     ],
     "prompt_number": 15
    },
    {
     "cell_type": "markdown",
     "metadata": {},
     "source": [
      "======================================================================"
     ]
    },
    {
     "cell_type": "heading",
     "level": 2,
     "metadata": {},
     "source": [
      "Mold Data"
     ]
    },
    {
     "cell_type": "markdown",
     "metadata": {},
     "source": [
      "### Data Types\n",
      "\n",
      "Inspect data types to see if there are any issues.  Data should be numeric."
     ]
    },
    {
     "cell_type": "code",
     "collapsed": false,
     "input": [
      "df.head(5)"
     ],
     "language": "python",
     "metadata": {},
     "outputs": [
      {
       "html": [
        "<div style=\"max-width:1500px;overflow:auto;\">\n",
        "<table border=\"1\" class=\"dataframe\">\n",
        "  <thead>\n",
        "    <tr style=\"text-align: right;\">\n",
        "      <th></th>\n",
        "      <th>num_preg</th>\n",
        "      <th>glucose_conc</th>\n",
        "      <th>diastolic_bp</th>\n",
        "      <th>thickness</th>\n",
        "      <th>insulin</th>\n",
        "      <th>diab_pred</th>\n",
        "      <th>age</th>\n",
        "      <th>diabetes</th>\n",
        "    </tr>\n",
        "  </thead>\n",
        "  <tbody>\n",
        "    <tr>\n",
        "      <th>0</th>\n",
        "      <td>6</td>\n",
        "      <td>148</td>\n",
        "      <td>72</td>\n",
        "      <td>35</td>\n",
        "      <td>0</td>\n",
        "      <td>0.627</td>\n",
        "      <td>50</td>\n",
        "      <td>True</td>\n",
        "    </tr>\n",
        "    <tr>\n",
        "      <th>1</th>\n",
        "      <td>1</td>\n",
        "      <td>85</td>\n",
        "      <td>66</td>\n",
        "      <td>29</td>\n",
        "      <td>0</td>\n",
        "      <td>0.351</td>\n",
        "      <td>31</td>\n",
        "      <td>False</td>\n",
        "    </tr>\n",
        "    <tr>\n",
        "      <th>2</th>\n",
        "      <td>8</td>\n",
        "      <td>183</td>\n",
        "      <td>64</td>\n",
        "      <td>0</td>\n",
        "      <td>0</td>\n",
        "      <td>0.672</td>\n",
        "      <td>32</td>\n",
        "      <td>True</td>\n",
        "    </tr>\n",
        "    <tr>\n",
        "      <th>3</th>\n",
        "      <td>1</td>\n",
        "      <td>89</td>\n",
        "      <td>66</td>\n",
        "      <td>23</td>\n",
        "      <td>94</td>\n",
        "      <td>0.167</td>\n",
        "      <td>21</td>\n",
        "      <td>False</td>\n",
        "    </tr>\n",
        "    <tr>\n",
        "      <th>4</th>\n",
        "      <td>0</td>\n",
        "      <td>137</td>\n",
        "      <td>40</td>\n",
        "      <td>35</td>\n",
        "      <td>168</td>\n",
        "      <td>2.288</td>\n",
        "      <td>33</td>\n",
        "      <td>True</td>\n",
        "    </tr>\n",
        "  </tbody>\n",
        "</table>\n",
        "</div>"
       ],
       "metadata": {},
       "output_type": "pyout",
       "prompt_number": 16,
       "text": [
        "   num_preg  glucose_conc  diastolic_bp  thickness  insulin  diab_pred  age  \\\n",
        "0         6           148            72         35        0      0.627   50   \n",
        "1         1            85            66         29        0      0.351   31   \n",
        "2         8           183            64          0        0      0.672   32   \n",
        "3         1            89            66         23       94      0.167   21   \n",
        "4         0           137            40         35      168      2.288   33   \n",
        "\n",
        "  diabetes  \n",
        "0     True  \n",
        "1    False  \n",
        "2     True  \n",
        "3    False  \n",
        "4     True  "
       ]
      }
     ],
     "prompt_number": 16
    },
    {
     "cell_type": "markdown",
     "metadata": {},
     "source": [
      "Change diabetes from boolean to integer, True=1, False=0"
     ]
    },
    {
     "cell_type": "code",
     "collapsed": true,
     "input": [
      "diabetes_map = {True : 1, False : 0}\n",
      "df['diabetes'] = df['diabetes'].map(diabetes_map)"
     ],
     "language": "python",
     "metadata": {},
     "outputs": [],
     "prompt_number": 17
    },
    {
     "cell_type": "markdown",
     "metadata": {},
     "source": [
      "Verify that the diabetes data type has been changed."
     ]
    },
    {
     "cell_type": "markdown",
     "metadata": {},
     "source": [
      "     \n",
      "     \n",
      "     \n",
      "     \n",
      "     \n",
      "     \n",
      "     \n",
      "     \n",
      "     \n",
      "     \n",
      "     \n",
      "     \n",
      "     \n",
      "     \n",
      "     \n",
      "     "
     ]
    },
    {
     "cell_type": "code",
     "collapsed": false,
     "input": [
      "df.head(5)"
     ],
     "language": "python",
     "metadata": {},
     "outputs": [
      {
       "html": [
        "<div style=\"max-width:1500px;overflow:auto;\">\n",
        "<table border=\"1\" class=\"dataframe\">\n",
        "  <thead>\n",
        "    <tr style=\"text-align: right;\">\n",
        "      <th></th>\n",
        "      <th>num_preg</th>\n",
        "      <th>glucose_conc</th>\n",
        "      <th>diastolic_bp</th>\n",
        "      <th>thickness</th>\n",
        "      <th>insulin</th>\n",
        "      <th>diab_pred</th>\n",
        "      <th>age</th>\n",
        "      <th>diabetes</th>\n",
        "    </tr>\n",
        "  </thead>\n",
        "  <tbody>\n",
        "    <tr>\n",
        "      <th>0</th>\n",
        "      <td>6</td>\n",
        "      <td>148</td>\n",
        "      <td>72</td>\n",
        "      <td>35</td>\n",
        "      <td>0</td>\n",
        "      <td>0.627</td>\n",
        "      <td>50</td>\n",
        "      <td>1</td>\n",
        "    </tr>\n",
        "    <tr>\n",
        "      <th>1</th>\n",
        "      <td>1</td>\n",
        "      <td>85</td>\n",
        "      <td>66</td>\n",
        "      <td>29</td>\n",
        "      <td>0</td>\n",
        "      <td>0.351</td>\n",
        "      <td>31</td>\n",
        "      <td>0</td>\n",
        "    </tr>\n",
        "    <tr>\n",
        "      <th>2</th>\n",
        "      <td>8</td>\n",
        "      <td>183</td>\n",
        "      <td>64</td>\n",
        "      <td>0</td>\n",
        "      <td>0</td>\n",
        "      <td>0.672</td>\n",
        "      <td>32</td>\n",
        "      <td>1</td>\n",
        "    </tr>\n",
        "    <tr>\n",
        "      <th>3</th>\n",
        "      <td>1</td>\n",
        "      <td>89</td>\n",
        "      <td>66</td>\n",
        "      <td>23</td>\n",
        "      <td>94</td>\n",
        "      <td>0.167</td>\n",
        "      <td>21</td>\n",
        "      <td>0</td>\n",
        "    </tr>\n",
        "    <tr>\n",
        "      <th>4</th>\n",
        "      <td>0</td>\n",
        "      <td>137</td>\n",
        "      <td>40</td>\n",
        "      <td>35</td>\n",
        "      <td>168</td>\n",
        "      <td>2.288</td>\n",
        "      <td>33</td>\n",
        "      <td>1</td>\n",
        "    </tr>\n",
        "  </tbody>\n",
        "</table>\n",
        "</div>"
       ],
       "metadata": {},
       "output_type": "pyout",
       "prompt_number": 18,
       "text": [
        "   num_preg  glucose_conc  diastolic_bp  thickness  insulin  diab_pred  age  \\\n",
        "0         6           148            72         35        0      0.627   50   \n",
        "1         1            85            66         29        0      0.351   31   \n",
        "2         8           183            64          0        0      0.672   32   \n",
        "3         1            89            66         23       94      0.167   21   \n",
        "4         0           137            40         35      168      2.288   33   \n",
        "\n",
        "   diabetes  \n",
        "0         1  \n",
        "1         0  \n",
        "2         1  \n",
        "3         0  \n",
        "4         1  "
       ]
      }
     ],
     "prompt_number": 18
    },
    {
     "cell_type": "heading",
     "level": 3,
     "metadata": {},
     "source": [
      "Check for null values"
     ]
    },
    {
     "cell_type": "code",
     "collapsed": false,
     "input": [
      "df.isnull().values.any()"
     ],
     "language": "python",
     "metadata": {},
     "outputs": [
      {
       "metadata": {},
       "output_type": "pyout",
       "prompt_number": 19,
       "text": [
        "False"
       ]
      }
     ],
     "prompt_number": 19
    },
    {
     "cell_type": "markdown",
     "metadata": {},
     "source": [
      "No obvious null values."
     ]
    },
    {
     "cell_type": "markdown",
     "metadata": {},
     "source": [
      "### Check class distribution \n",
      "\n",
      "Rare events are hard to predict"
     ]
    },
    {
     "cell_type": "code",
     "collapsed": false,
     "input": [
      "num_obs = len(df)\n",
      "num_true = len(df.loc[df['diabetes'] == 1])\n",
      "num_false = len(df.loc[df['diabetes'] == 0])\n",
      "print(\"Number of True cases:  {0} ({1:2.2f}%)\".format(num_true, (num_true/num_obs) * 100))\n",
      "print(\"Number of False cases: {0} ({1:2.2f}%)\".format(num_false, (num_false/num_obs) * 100))"
     ],
     "language": "python",
     "metadata": {},
     "outputs": [
      {
       "output_type": "stream",
       "stream": "stdout",
       "text": [
        "Number of True cases:  268 (34.90%)\n",
        "Number of False cases: 500 (65.10%)\n"
       ]
      }
     ],
     "prompt_number": 20
    },
    {
     "cell_type": "markdown",
     "metadata": {},
     "source": [
      "Good distribution of true and false cases.  No special work needed."
     ]
    },
    {
     "cell_type": "markdown",
     "metadata": {},
     "source": [
      "### Spliting the data \n",
      "\n",
      "70% for training, 30% for testing"
     ]
    },
    {
     "cell_type": "code",
     "collapsed": false,
     "input": [
      "from sklearn.cross_validation import train_test_split\n",
      "\n",
      "feature_col_names = ['num_preg', 'glucose_conc', 'diastolic_bp', 'thickness', 'insulin', 'diab_pred', 'age']\n",
      "predicted_class_names = ['diabetes']\n",
      "\n",
      "X = df[feature_col_names].values     # predictor feature columns (8 X m)\n",
      "y = df[predicted_class_names].values # predicted class (1=true, 0=false) column (1 X m)\n",
      "split_test_size = 0.30\n",
      "\n",
      "X_train, X_test, y_train, y_test = train_test_split(X, y, test_size=split_test_size, random_state=42) \n",
      "                            # test_size = 0.3 is 30%, 42 is the answer to everything"
     ],
     "language": "python",
     "metadata": {},
     "outputs": [],
     "prompt_number": 22
    },
    {
     "cell_type": "markdown",
     "metadata": {},
     "source": [
      "We check to ensure we have the the desired 70% train, 30% test split of the data"
     ]
    },
    {
     "cell_type": "code",
     "collapsed": false,
     "input": [
      "print(\"{0:0.2f}% in training set\".format((len(X_train)/len(df.index)) * 100))\n",
      "print(\"{0:0.2f}% in test set\".format((len(X_test)/len(df.index)) * 100))"
     ],
     "language": "python",
     "metadata": {},
     "outputs": [
      {
       "output_type": "stream",
       "stream": "stdout",
       "text": [
        "69.92% in training set\n",
        "30.08% in test set\n"
       ]
      }
     ],
     "prompt_number": 23
    },
    {
     "cell_type": "heading",
     "level": 4,
     "metadata": {},
     "source": [
      "Verifying predicted value was split correctly"
     ]
    },
    {
     "cell_type": "code",
     "collapsed": false,
     "input": [
      "print(\"Original True  : {0} ({1:0.2f}%)\".format(len(df.loc[df['diabetes'] == 1]), (len(df.loc[df['diabetes'] == 1])/len(df.index)) * 100.0))\n",
      "print(\"Original False : {0} ({1:0.2f}%)\".format(len(df.loc[df['diabetes'] == 0]), (len(df.loc[df['diabetes'] == 0])/len(df.index)) * 100.0))\n",
      "print(\"\")\n",
      "print(\"Training True  : {0} ({1:0.2f}%)\".format(len(y_train[y_train[:] == 1]), (len(y_train[y_train[:] == 1])/len(y_train) * 100.0)))\n",
      "print(\"Training False : {0} ({1:0.2f}%)\".format(len(y_train[y_train[:] == 0]), (len(y_train[y_train[:] == 0])/len(y_train) * 100.0)))\n",
      "print(\"\")\n",
      "print(\"Test True      : {0} ({1:0.2f}%)\".format(len(y_test[y_test[:] == 1]), (len(y_test[y_test[:] == 1])/len(y_test) * 100.0)))\n",
      "print(\"Test False     : {0} ({1:0.2f}%)\".format(len(y_test[y_test[:] == 0]), (len(y_test[y_test[:] == 0])/len(y_test) * 100.0)))\n"
     ],
     "language": "python",
     "metadata": {},
     "outputs": [
      {
       "output_type": "stream",
       "stream": "stdout",
       "text": [
        "Original True  : 268 (34.90%)\n",
        "Original False : 500 (65.10%)\n",
        "\n",
        "Training True  : 188 (35.01%)\n",
        "Training False : 349 (64.99%)\n",
        "\n",
        "Test True      : 80 (34.63%)\n",
        "Test False     : 151 (65.37%)\n"
       ]
      }
     ],
     "prompt_number": 24
    },
    {
     "cell_type": "heading",
     "level": 3,
     "metadata": {},
     "source": [
      "Post-split Data Preparation"
     ]
    },
    {
     "cell_type": "heading",
     "level": 4,
     "metadata": {},
     "source": [
      "Hidden Missing Values"
     ]
    },
    {
     "cell_type": "code",
     "collapsed": false,
     "input": [
      "df.head()"
     ],
     "language": "python",
     "metadata": {},
     "outputs": [
      {
       "html": [
        "<div style=\"max-width:1500px;overflow:auto;\">\n",
        "<table border=\"1\" class=\"dataframe\">\n",
        "  <thead>\n",
        "    <tr style=\"text-align: right;\">\n",
        "      <th></th>\n",
        "      <th>num_preg</th>\n",
        "      <th>glucose_conc</th>\n",
        "      <th>diastolic_bp</th>\n",
        "      <th>thickness</th>\n",
        "      <th>insulin</th>\n",
        "      <th>diab_pred</th>\n",
        "      <th>age</th>\n",
        "      <th>diabetes</th>\n",
        "    </tr>\n",
        "  </thead>\n",
        "  <tbody>\n",
        "    <tr>\n",
        "      <th>0</th>\n",
        "      <td>6</td>\n",
        "      <td>148</td>\n",
        "      <td>72</td>\n",
        "      <td>35</td>\n",
        "      <td>0</td>\n",
        "      <td>0.627</td>\n",
        "      <td>50</td>\n",
        "      <td>1</td>\n",
        "    </tr>\n",
        "    <tr>\n",
        "      <th>1</th>\n",
        "      <td>1</td>\n",
        "      <td>85</td>\n",
        "      <td>66</td>\n",
        "      <td>29</td>\n",
        "      <td>0</td>\n",
        "      <td>0.351</td>\n",
        "      <td>31</td>\n",
        "      <td>0</td>\n",
        "    </tr>\n",
        "    <tr>\n",
        "      <th>2</th>\n",
        "      <td>8</td>\n",
        "      <td>183</td>\n",
        "      <td>64</td>\n",
        "      <td>0</td>\n",
        "      <td>0</td>\n",
        "      <td>0.672</td>\n",
        "      <td>32</td>\n",
        "      <td>1</td>\n",
        "    </tr>\n",
        "    <tr>\n",
        "      <th>3</th>\n",
        "      <td>1</td>\n",
        "      <td>89</td>\n",
        "      <td>66</td>\n",
        "      <td>23</td>\n",
        "      <td>94</td>\n",
        "      <td>0.167</td>\n",
        "      <td>21</td>\n",
        "      <td>0</td>\n",
        "    </tr>\n",
        "    <tr>\n",
        "      <th>4</th>\n",
        "      <td>0</td>\n",
        "      <td>137</td>\n",
        "      <td>40</td>\n",
        "      <td>35</td>\n",
        "      <td>168</td>\n",
        "      <td>2.288</td>\n",
        "      <td>33</td>\n",
        "      <td>1</td>\n",
        "    </tr>\n",
        "  </tbody>\n",
        "</table>\n",
        "</div>"
       ],
       "metadata": {},
       "output_type": "pyout",
       "prompt_number": 25,
       "text": [
        "   num_preg  glucose_conc  diastolic_bp  thickness  insulin  diab_pred  age  \\\n",
        "0         6           148            72         35        0      0.627   50   \n",
        "1         1            85            66         29        0      0.351   31   \n",
        "2         8           183            64          0        0      0.672   32   \n",
        "3         1            89            66         23       94      0.167   21   \n",
        "4         0           137            40         35      168      2.288   33   \n",
        "\n",
        "   diabetes  \n",
        "0         1  \n",
        "1         0  \n",
        "2         1  \n",
        "3         0  \n",
        "4         1  "
       ]
      }
     ],
     "prompt_number": 25
    },
    {
     "cell_type": "markdown",
     "metadata": {},
     "source": [
      "Are these 0 values possible?\n",
      "\n",
      "How many rows have have unexpected 0 values?"
     ]
    },
    {
     "cell_type": "code",
     "collapsed": false,
     "input": [
      "print(\"# rows in dataframe {0}\".format(len(df)))\n",
      "print(\"# rows missing glucose_conc: {0}\".format(len(df.loc[df['glucose_conc'] == 0])))\n",
      "print(\"# rows missing diastolic_bp: {0}\".format(len(df.loc[df['diastolic_bp'] == 0])))\n",
      "print(\"# rows missing thickness: {0}\".format(len(df.loc[df['thickness'] == 0])))\n",
      "print(\"# rows missing insulin: {0}\".format(len(df.loc[df['insulin'] == 0])))\n",
      "#print(\"# rows missing bmi: {0}\".format(len(df.loc[df['bmi'] == 0])))\n",
      "print(\"# rows missing diab_pred: {0}\".format(len(df.loc[df['diab_pred'] == 0])))\n",
      "print(\"# rows missing age: {0}\".format(len(df.loc[df['age'] == 0])))"
     ],
     "language": "python",
     "metadata": {},
     "outputs": [
      {
       "output_type": "stream",
       "stream": "stdout",
       "text": [
        "# rows in dataframe 768\n",
        "# rows missing glucose_conc: 5\n",
        "# rows missing diastolic_bp: 35\n",
        "# rows missing thickness: 227\n",
        "# rows missing insulin: 374\n",
        "# rows missing diab_pred: 0\n",
        "# rows missing age: 0\n"
       ]
      }
     ],
     "prompt_number": 26
    },
    {
     "cell_type": "heading",
     "level": 4,
     "metadata": {},
     "source": [
      "Impute with the mean"
     ]
    },
    {
     "cell_type": "code",
     "collapsed": true,
     "input": [
      "from sklearn.preprocessing import Imputer\n",
      "\n",
      "#Impute with mean all 0 readings\n",
      "fill_0 = Imputer(missing_values=0, strategy=\"mean\", axis=0)\n",
      "\n",
      "X_train = fill_0.fit_transform(X_train)\n",
      "X_test = fill_0.fit_transform(X_test)"
     ],
     "language": "python",
     "metadata": {},
     "outputs": [],
     "prompt_number": 27
    },
    {
     "cell_type": "heading",
     "level": 2,
     "metadata": {},
     "source": [
      "Training Initial Algorithm - Naive Bayes"
     ]
    },
    {
     "cell_type": "code",
     "collapsed": false,
     "input": [
      "from sklearn.naive_bayes import GaussianNB\n",
      "\n",
      "# create Gaussian Naive Bayes model object and train it with the data\n",
      "nb_model = GaussianNB()\n",
      "\n",
      "nb_model.fit(X_train, y_train.ravel())"
     ],
     "language": "python",
     "metadata": {},
     "outputs": [
      {
       "metadata": {},
       "output_type": "pyout",
       "prompt_number": 28,
       "text": [
        "GaussianNB()"
       ]
      }
     ],
     "prompt_number": 28
    },
    {
     "cell_type": "heading",
     "level": 3,
     "metadata": {
      "collapsed": true
     },
     "source": [
      "Performance on Training Data"
     ]
    },
    {
     "cell_type": "code",
     "collapsed": false,
     "input": [
      "# predict values using the training data\n",
      "nb_predict_train = nb_model.predict(X_train)\n",
      "\n",
      "# import the performance metrics library\n",
      "from sklearn import metrics\n",
      "\n",
      "# Accuracy\n",
      "print(\"Accuracy: {0:.4f}\".format(metrics.accuracy_score(y_train, nb_predict_train)))\n",
      "print(\"Original accuracy with all features was 0.7542\")\n",
      "print()"
     ],
     "language": "python",
     "metadata": {},
     "outputs": [
      {
       "output_type": "stream",
       "stream": "stdout",
       "text": [
        "Accuracy: 0.7374\n",
        "Original accuracy with all features was 0.7542\n",
        "\n"
       ]
      }
     ],
     "prompt_number": 29
    },
    {
     "cell_type": "heading",
     "level": 3,
     "metadata": {},
     "source": [
      "Performance on Testing Data"
     ]
    },
    {
     "cell_type": "code",
     "collapsed": false,
     "input": [
      "# predict values using the testing data\n",
      "nb_predict_test = nb_model.predict(X_test)\n",
      "\n",
      "from sklearn import metrics\n",
      "\n",
      "# training metrics\n",
      "print(\"Accuracy: {0:.4f}\".format(metrics.accuracy_score(y_test, nb_predict_test)))\n",
      "print(\"Original accuracy with all features was 0.7359\")\n"
     ],
     "language": "python",
     "metadata": {},
     "outputs": [
      {
       "output_type": "stream",
       "stream": "stdout",
       "text": [
        "Accuracy: 0.7359\n",
        "Original accuracy with all features was 0.7359\n"
       ]
      }
     ],
     "prompt_number": 30
    },
    {
     "cell_type": "heading",
     "level": 4,
     "metadata": {},
     "source": [
      "Metrics"
     ]
    },
    {
     "cell_type": "code",
     "collapsed": false,
     "input": [
      "print(\"Confusion Matrix\")\n",
      "print(\"{0}\".format(metrics.confusion_matrix(y_test, nb_predict_test)))\n",
      "print(\"Original Confusion Matrix with all features was\")\n",
      "original_confusion_matrix = [[118, 33], [28, 52]]\n",
      "print(original_confusion_matrix)\n",
      "print(\"\")\n",
      "\n",
      "print(\"Classification Report\")\n",
      "print(metrics.classification_report(y_test, nb_predict_test))\n",
      "print(\"Original recall[1] with all features was 0.65\")\n"
     ],
     "language": "python",
     "metadata": {},
     "outputs": [
      {
       "output_type": "stream",
       "stream": "stdout",
       "text": [
        "Confusion Matrix\n",
        "[[119  32]\n",
        " [ 29  51]]\n",
        "Original Confusion Matrix with all features was\n",
        "[[118, 33], [28, 52]]\n",
        "\n",
        "Classification Report\n",
        "             precision    recall  f1-score   support\n",
        "\n",
        "          0       0.80      0.79      0.80       151\n",
        "          1       0.61      0.64      0.63        80\n",
        "\n",
        "avg / total       0.74      0.74      0.74       231\n",
        "\n",
        "Original recall[1] with all features was 0.65\n"
       ]
      }
     ],
     "prompt_number": 31
    },
    {
     "cell_type": "heading",
     "level": 2,
     "metadata": {},
     "source": [
      "Random Forest"
     ]
    },
    {
     "cell_type": "code",
     "collapsed": false,
     "input": [
      "from sklearn.ensemble import RandomForestClassifier\n",
      "rf_model = RandomForestClassifier(random_state=42)      # Create random forest object\n",
      "rf_model.fit(X_train, y_train.ravel()) "
     ],
     "language": "python",
     "metadata": {},
     "outputs": [
      {
       "metadata": {},
       "output_type": "pyout",
       "prompt_number": 32,
       "text": [
        "RandomForestClassifier(bootstrap=True, class_weight=None, criterion='gini',\n",
        "            max_depth=None, max_features='auto', max_leaf_nodes=None,\n",
        "            min_samples_leaf=1, min_samples_split=2,\n",
        "            min_weight_fraction_leaf=0.0, n_estimators=10, n_jobs=1,\n",
        "            oob_score=False, random_state=42, verbose=0, warm_start=False)"
       ]
      }
     ],
     "prompt_number": 32
    },
    {
     "cell_type": "heading",
     "level": 3,
     "metadata": {},
     "source": [
      "Predict Training Data"
     ]
    },
    {
     "cell_type": "code",
     "collapsed": false,
     "input": [
      "rf_predict_train = rf_model.predict(X_train)\n",
      "# training metrics\n",
      "print(\"Accuracy: {0:.4f}\".format(metrics.accuracy_score(y_train, rf_predict_train)))\n",
      "print(\"Original accuracy with all features was 0.9870\")"
     ],
     "language": "python",
     "metadata": {},
     "outputs": [
      {
       "output_type": "stream",
       "stream": "stdout",
       "text": [
        "Accuracy: 0.9870\n",
        "Original accuracy with all features was 0.9870\n"
       ]
      }
     ],
     "prompt_number": 33
    },
    {
     "cell_type": "heading",
     "level": 3,
     "metadata": {},
     "source": [
      "Predict Test Data"
     ]
    },
    {
     "cell_type": "code",
     "collapsed": false,
     "input": [
      "rf_predict_test = rf_model.predict(X_test)\n",
      "\n",
      "# training metrics\n",
      "print(\"Accuracy: {0:.4f}\".format(metrics.accuracy_score(y_test, rf_predict_test)))\n",
      "print(\"Original accuracy with all features was 0.7100\")"
     ],
     "language": "python",
     "metadata": {},
     "outputs": [
      {
       "output_type": "stream",
       "stream": "stdout",
       "text": [
        "Accuracy: 0.7186\n",
        "Original accuracy with all features was 0.7100\n"
       ]
      }
     ],
     "prompt_number": 34
    },
    {
     "cell_type": "code",
     "collapsed": false,
     "input": [
      "print(metrics.confusion_matrix(y_test, rf_predict_test) )\n",
      "print(\"Original confusion matrix with all features was\")\n",
      "print([[121, 30], [37, 43]])\n",
      "print(\"\")\n",
      "print(\"Classification Report\")\n",
      "print(metrics.classification_report(y_test, rf_predict_test))\n",
      "print(\"Original recall[1] with all features was 0.54\")"
     ],
     "language": "python",
     "metadata": {},
     "outputs": [
      {
       "output_type": "stream",
       "stream": "stdout",
       "text": [
        "[[121  30]\n",
        " [ 35  45]]\n",
        "Original confusion matrix with all features was\n",
        "[[121, 30], [37, 43]]\n",
        "\n",
        "Classification Report\n",
        "             precision    recall  f1-score   support\n",
        "\n",
        "          0       0.78      0.80      0.79       151\n",
        "          1       0.60      0.56      0.58        80\n",
        "\n",
        "avg / total       0.71      0.72      0.72       231\n",
        "\n",
        "Original recall[1] with all features was 0.54\n"
       ]
      }
     ],
     "prompt_number": 35
    },
    {
     "cell_type": "heading",
     "level": 2,
     "metadata": {},
     "source": [
      "Logistic Regression"
     ]
    },
    {
     "cell_type": "code",
     "collapsed": false,
     "input": [
      "from sklearn.linear_model import LogisticRegression\n",
      "\n",
      "lr_model =LogisticRegression(C=0.7, random_state=42)\n",
      "lr_model.fit(X_train, y_train.ravel())\n",
      "lr_predict_test = lr_model.predict(X_test)\n",
      "\n",
      "# training metrics\n",
      "print(\"Accuracy: {0:.4f}\".format(metrics.accuracy_score(y_test, lr_predict_test)))\n",
      "print(\"Original accuracy with all features was 0.7446\")\n",
      "print(metrics.confusion_matrix(y_test, lr_predict_test) )\n",
      "print(\"Original confusion matrix with all features was\")\n",
      "print([[128, 23], [36, 44]])\n",
      "print(\"\")\n",
      "print(\"Classification Report\")\n",
      "print(metrics.classification_report(y_test, lr_predict_test))\n",
      "print(\"Original recall[1] with all features was 0.55\")"
     ],
     "language": "python",
     "metadata": {},
     "outputs": [
      {
       "output_type": "stream",
       "stream": "stdout",
       "text": [
        "Accuracy: 0.7576\n",
        "Original accuracy with all features was 0.7446\n",
        "[[129  22]\n",
        " [ 34  46]]\n",
        "Original confusion matrix with all features was\n",
        "[[128, 23], [36, 44]]\n",
        "\n",
        "Classification Report\n",
        "             precision    recall  f1-score   support\n",
        "\n",
        "          0       0.79      0.85      0.82       151\n",
        "          1       0.68      0.57      0.62        80\n",
        "\n",
        "avg / total       0.75      0.76      0.75       231\n",
        "\n",
        "Original recall[1] with all features was 0.55\n"
       ]
      }
     ],
     "prompt_number": 36
    },
    {
     "cell_type": "markdown",
     "metadata": {},
     "source": [
      "Setting regularization parameter"
     ]
    },
    {
     "cell_type": "code",
     "collapsed": false,
     "input": [
      "C_start = 0.1\n",
      "C_end = 5\n",
      "C_inc = 0.1\n",
      "\n",
      "C_values, recall_scores = [], []\n",
      "\n",
      "C_val = C_start\n",
      "best_recall_score = 0\n",
      "while (C_val < C_end):\n",
      "    C_values.append(C_val)\n",
      "    lr_model_loop = LogisticRegression(C=C_val, random_state=42)\n",
      "    lr_model_loop.fit(X_train, y_train.ravel())\n",
      "    lr_predict_loop_test = lr_model_loop.predict(X_test)\n",
      "    recall_score = metrics.recall_score(y_test, lr_predict_loop_test)\n",
      "    recall_scores.append(recall_score)\n",
      "    if (recall_score > best_recall_score):\n",
      "        best_recall_score = recall_score\n",
      "        best_lr_predict_test = lr_predict_loop_test\n",
      "        \n",
      "    C_val = C_val + C_inc\n",
      "\n",
      "best_score_C_val = C_values[recall_scores.index(best_recall_score)]\n",
      "print(\"1st max value of {0:.3f} occured at C={1:.3f}\".format(best_recall_score, best_score_C_val))\n",
      "\n",
      "%matplotlib inline \n",
      "plt.plot(C_values, recall_scores, \"-\")\n",
      "plt.xlabel(\"C value\")\n",
      "plt.ylabel(\"recall score\")\n"
     ],
     "language": "python",
     "metadata": {},
     "outputs": [
      {
       "output_type": "stream",
       "stream": "stdout",
       "text": [
        "1st max value of 0.588 occured at C=3.400\n"
       ]
      },
      {
       "metadata": {},
       "output_type": "pyout",
       "prompt_number": 37,
       "text": [
        "<matplotlib.text.Text at 0x7f919a1eea58>"
       ]
      },
      {
       "metadata": {},
       "output_type": "display_data",
       "png": "[encoded data removed]",
       "text": [
        "<matplotlib.figure.Figure at 0x7f91a6fc1358>"
       ]
      }
     ],
     "prompt_number": 37
    },
    {
     "cell_type": "heading",
     "level": 3,
     "metadata": {},
     "source": [
      "Logisitic regression with class_weight='balanced'"
     ]
    },
    {
     "cell_type": "code",
     "collapsed": false,
     "input": [
      "C_start = 0.1\n",
      "C_end = 5\n",
      "C_inc = 0.1\n",
      "\n",
      "C_values, recall_scores = [], []\n",
      "\n",
      "C_val = C_start\n",
      "best_recall_score = 0\n",
      "while (C_val < C_end):\n",
      "    C_values.append(C_val)\n",
      "    lr_model_loop = LogisticRegression(C=C_val, class_weight=\"balanced\", random_state=42)\n",
      "    lr_model_loop.fit(X_train, y_train.ravel())\n",
      "    lr_predict_loop_test = lr_model_loop.predict(X_test)\n",
      "    recall_score = metrics.recall_score(y_test, lr_predict_loop_test)\n",
      "    recall_scores.append(recall_score)\n",
      "    if (recall_score > best_recall_score):\n",
      "        best_recall_score = recall_score\n",
      "        best_lr_predict_test = lr_predict_loop_test\n",
      "        \n",
      "    C_val = C_val + C_inc\n",
      "\n",
      "best_score_C_val = C_values[recall_scores.index(best_recall_score)]\n",
      "print(\"1st max value of {0:.3f} occured at C={1:.3f}\".format(best_recall_score, best_score_C_val))\n",
      "\n",
      "%matplotlib inline \n",
      "plt.plot(C_values, recall_scores, \"-\")\n",
      "plt.xlabel(\"C value\")\n",
      "plt.ylabel(\"recall score\")"
     ],
     "language": "python",
     "metadata": {},
     "outputs": [
      {
       "output_type": "stream",
       "stream": "stdout",
       "text": [
        "1st max value of 0.762 occured at C=0.100\n"
       ]
      },
      {
       "metadata": {},
       "output_type": "pyout",
       "prompt_number": 38,
       "text": [
        "<matplotlib.text.Text at 0x7f919a1e8908>"
       ]
      },
      {
       "metadata": {},
       "output_type": "display_data",
       "png": "[encoded data removed]",
       "text": [
        "<matplotlib.figure.Figure at 0x7f919a1f30b8>"
       ]
      }
     ],
     "prompt_number": 38
    },
    {
     "cell_type": "code",
     "collapsed": false,
     "input": [
      "from sklearn.linear_model import LogisticRegression\n",
      "lr_model =LogisticRegression( class_weight=\"balanced\", C=best_score_C_val, random_state=42)\n",
      "lr_model.fit(X_train, y_train.ravel())\n",
      "lr_predict_test = lr_model.predict(X_test)\n",
      "\n",
      "# training metrics\n",
      "print(\"Accuracy: {0:.4f}\".format(metrics.accuracy_score(y_test, lr_predict_test)))\n",
      "print(\"Original accuracy with all features was 0.7143\")\n",
      "print(metrics.confusion_matrix(y_test, lr_predict_test) )\n",
      "print(\"Original confusion matrix with all features was\")\n",
      "print([[106, 45],[21, 59]])\n",
      "print(\"\")\n",
      "print(\"Classification Report\")\n",
      "print(metrics.classification_report(y_test, lr_predict_test))\n",
      "print(metrics.recall_score(y_test, lr_predict_test))\n",
      "print(\"Original recall score with all features was 0.7375\")"
     ],
     "language": "python",
     "metadata": {},
     "outputs": [
      {
       "output_type": "stream",
       "stream": "stdout",
       "text": [
        "Accuracy: 0.6840\n",
        "Original accuracy with all features was 0.7143\n",
        "[[97 54]\n",
        " [19 61]]\n",
        "Original confusion matrix with all features was\n",
        "[[106, 45], [21, 59]]\n",
        "\n",
        "Classification Report\n",
        "             precision    recall  f1-score   support\n",
        "\n",
        "          0       0.84      0.64      0.73       151\n",
        "          1       0.53      0.76      0.63        80\n",
        "\n",
        "avg / total       0.73      0.68      0.69       231\n",
        "\n",
        "0.7625\n",
        "Original recall score with all features was 0.7375\n"
       ]
      }
     ],
     "prompt_number": 39
    },
    {
     "cell_type": "heading",
     "level": 3,
     "metadata": {},
     "source": [
      "LogisticRegressionCV"
     ]
    },
    {
     "cell_type": "code",
     "collapsed": false,
     "input": [
      "from sklearn.linear_model import LogisticRegressionCV\n",
      "lr_cv_model = LogisticRegressionCV(n_jobs=-1, random_state=42, Cs=3, cv=10, refit=False, class_weight=\"balanced\")  # set number of jobs to -1 which uses all cores to parallelize\n",
      "lr_cv_model.fit(X_train, y_train.ravel())"
     ],
     "language": "python",
     "metadata": {},
     "outputs": [
      {
       "metadata": {},
       "output_type": "pyout",
       "prompt_number": 40,
       "text": [
        "LogisticRegressionCV(Cs=3, class_weight='balanced', cv=10, dual=False,\n",
        "           fit_intercept=True, intercept_scaling=1.0, max_iter=100,\n",
        "           multi_class='ovr', n_jobs=-1, penalty='l2', random_state=42,\n",
        "           refit=False, scoring=None, solver='lbfgs', tol=0.0001,\n",
        "           verbose=0)"
       ]
      }
     ],
     "prompt_number": 40
    },
    {
     "cell_type": "heading",
     "level": 3,
     "metadata": {},
     "source": [
      "Predict on Test data"
     ]
    },
    {
     "cell_type": "code",
     "collapsed": false,
     "input": [
      "lr_cv_predict_test = lr_cv_model.predict(X_test)\n",
      "\n",
      "# training metrics\n",
      "print(\"Accuracy: {0:.4f}\".format(metrics.accuracy_score(y_test, lr_cv_predict_test)))\n",
      "print(\"Original accuracy with all features was 0.7143\")\n",
      "print(metrics.confusion_matrix(y_test, lr_cv_predict_test) )\n",
      "print(\"Original confusion matrix with all features was\")\n",
      "print([[110, 41], [25, 55]])\n",
      "print(\"\")\n",
      "print(\"Classification Report\")\n",
      "print(metrics.classification_report(y_test, lr_cv_predict_test))\n",
      "print(\"Original recall[1] with all features was 0.69\")"
     ],
     "language": "python",
     "metadata": {},
     "outputs": [
      {
       "output_type": "stream",
       "stream": "stdout",
       "text": [
        "Accuracy: 0.7013\n",
        "Original accuracy with all features was 0.7143\n",
        "[[108  43]\n",
        " [ 26  54]]\n",
        "Original confusion matrix with all features was\n",
        "[[110, 41], [25, 55]]\n",
        "\n",
        "Classification Report\n",
        "             precision    recall  f1-score   support\n",
        "\n",
        "          0       0.81      0.72      0.76       151\n",
        "          1       0.56      0.68      0.61        80\n",
        "\n",
        "avg / total       0.72      0.70      0.71       231\n",
        "\n",
        "Original recall[1] with all features was 0.69\n"
       ]
      }
     ],
     "prompt_number": 41
    }
   ],
   "metadata": {}
  }
 ]
}